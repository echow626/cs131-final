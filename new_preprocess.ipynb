{
 "cells": [
  {
   "cell_type": "code",
   "execution_count": 5,
   "metadata": {},
   "outputs": [],
   "source": [
    "import itertools\n",
    "import numpy as np\n",
    "import pandas as pd\n",
    "import json\n",
    "from collections import defaultdict\n",
    "from hog import *\n",
    "import tensorflow as tf\n",
    "import matplotlib.pyplot as plt\n",
    "from matplotlib import image as mpimg\n",
    "from skimage import io\n",
    "from skimage import feature\n",
    "from skimage import data, color, exposure\n",
    "from skimage.transform import rescale, resize, downscale_local_mean"
   ]
  },
  {
   "cell_type": "code",
   "execution_count": 11,
   "metadata": {},
   "outputs": [
    {
     "name": "stdout",
     "output_type": "stream",
     "text": [
      "   ID           NAME  r ankle_X  r ankle_Y  r knee_X  r knee_Y  r hip_X  \\\n",
      "0   1  015601864.jpg        620        394       616       269      573   \n",
      "1   2  015599452.jpg         -1         -1        -1        -1      806   \n",
      "2   3  005808361.jpg        804        711       816       510      908   \n",
      "3   4  086617615.jpg        301        461       305       375      201   \n",
      "4   5  060111501.jpg        980        322       896       318      865   \n",
      "\n",
      "   r hip_Y  l hip_X  l hip_Y  ...  r shoulder_Y  l shoulder_X  l shoulder_Y  \\\n",
      "0      185      647      188  ...           167           692           185   \n",
      "1      543      720      593  ...           281           719           299   \n",
      "2      438     1040      454  ...           253          1067           253   \n",
      "3      340      294      342  ...           261           314           264   \n",
      "4      248      943      226  ...           147           923           123   \n",
      "\n",
      "   l elbow_X  l elbow_Y  l wrist_X  l wrist_Y     Scale  Activity  Category  \n",
      "0        693        240        688        313  3.021046   curling    sports  \n",
      "1        711        516        545        466  5.641276   curling    sports  \n",
      "2       1167        353       1142        478  4.718488   curling    sports  \n",
      "3        327        320        362        346  2.681349   curling    sports  \n",
      "4        995        163        961        223  3.806403   curling    sports  \n",
      "\n",
      "[5 rows x 37 columns]\n",
      "(17372, 37)\n"
     ]
    }
   ],
   "source": [
    "mpii_df = pd.read_csv('mpii_human_pose.csv')\n",
    "mpii_numpy = mpii_df.to_numpy()\n",
    "\n",
    "print(mpii_df.head())\n",
    "print(mpii_numpy.shape)"
   ]
  },
  {
   "cell_type": "code",
   "execution_count": 17,
   "metadata": {},
   "outputs": [],
   "source": [
    "def get_new_name(image_file: str):\n",
    "    return image_file[:-4] + \"_resized.png\""
   ]
  },
  {
   "cell_type": "code",
   "execution_count": null,
   "metadata": {},
   "outputs": [
    {
     "data": {
      "text/plain": [
       "'015601864_resized.png'"
      ]
     },
     "execution_count": 18,
     "metadata": {},
     "output_type": "execute_result"
    }
   ],
   "source": [
    "get_new_name(mpii_numpy[0][1])"
   ]
  }
 ],
 "metadata": {
  "kernelspec": {
   "display_name": "cs131",
   "language": "python",
   "name": "python3"
  },
  "language_info": {
   "codemirror_mode": {
    "name": "ipython",
    "version": 3
   },
   "file_extension": ".py",
   "mimetype": "text/x-python",
   "name": "python",
   "nbconvert_exporter": "python",
   "pygments_lexer": "ipython3",
   "version": "3.9.15"
  }
 },
 "nbformat": 4,
 "nbformat_minor": 2
}
