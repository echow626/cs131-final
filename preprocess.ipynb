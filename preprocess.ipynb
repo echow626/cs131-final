{
 "cells": [
  {
   "cell_type": "code",
   "execution_count": 12,
   "metadata": {},
   "outputs": [],
   "source": [
    "import numpy as np\n",
    "import json\n",
    "from collections import defaultdict"
   ]
  },
  {
   "cell_type": "code",
   "execution_count": 11,
   "metadata": {},
   "outputs": [],
   "source": [
    "training_data_file = 'mpii_data/train.json'\n",
    "\n",
    "with open(training_data_file, 'r') as file:\n",
    "    training_data = json.load(file)\n"
   ]
  },
  {
   "cell_type": "code",
   "execution_count": 13,
   "metadata": {},
   "outputs": [
    {
     "name": "stdout",
     "output_type": "stream",
     "text": [
      "dict_keys(['joints_vis', 'joints', 'image', 'scale', 'center'])\n"
     ]
    }
   ],
   "source": [
    "print(training_data[0].keys())"
   ]
  },
  {
   "cell_type": "code",
   "execution_count": 19,
   "metadata": {},
   "outputs": [],
   "source": [
    "# Map images to data\n",
    "image_to_data = defaultdict(list)\n",
    "for data in training_data:\n",
    "    image_to_data[data[\"image\"]].append(data)"
   ]
  },
  {
   "cell_type": "code",
   "execution_count": 26,
   "metadata": {},
   "outputs": [],
   "source": [
    "# Filter for single person images\n",
    "single_person_images = {key: data[0] for key, data in image_to_data.items() if len(data) == 1}"
   ]
  },
  {
   "cell_type": "code",
   "execution_count": 32,
   "metadata": {},
   "outputs": [],
   "source": [
    "def filter_for_single_person_data(data_filepath, save_to_filepath):\n",
    "    with open(data_filepath, 'r') as file:\n",
    "        loaded_data = json.load(file)\n",
    "    \n",
    "    image_to_data = defaultdict(list)\n",
    "    for data in loaded_data:\n",
    "        image_to_data[data[\"image\"]].append(data)\n",
    "\n",
    "    single_person_images = {key: data[0] for key, data in image_to_data.items() if len(data) == 1}\n",
    "\n",
    "    single_person_json = [data for data in loaded_data if data[\"image\"] in single_person_images.keys()]\n",
    "\n",
    "    with open(save_to_filepath, 'w') as write_to:\n",
    "        json.dump(single_person_json, write_to)\n",
    "    print(f\"Filtered data saved to {save_to_filepath}\")\n",
    "\n",
    "    return single_person_images"
   ]
  },
  {
   "cell_type": "code",
   "execution_count": 33,
   "metadata": {},
   "outputs": [
    {
     "name": "stdout",
     "output_type": "stream",
     "text": [
      "Filtered data saved to filtered_data/single_person_test.json\n",
      "Filtered data saved to filtered_data/single_person_train.json\n",
      "Filtered data saved to filtered_data/single_person_trainval.json\n",
      "Filtered data saved to filtered_data/single_person_valid.json\n"
     ]
    }
   ],
   "source": [
    "data_jsons = [\"test.json\", \"train.json\", \"trainval.json\", \"valid.json\"]\n",
    "filtered_data_dicts = {}\n",
    "for data_json_file in data_jsons:\n",
    "    save_to = \"filtered_data/single_person_\" + data_json_file\n",
    "    filtered_data_dicts[data_json_file] = filter_for_single_person_data(\"mpii_data/\" + data_json_file, save_to)"
   ]
  },
  {
   "cell_type": "code",
   "execution_count": 34,
   "metadata": {},
   "outputs": [],
   "source": [
    "# Can use the filtered_data_dicts data from this point on"
   ]
  }
 ],
 "metadata": {
  "kernelspec": {
   "display_name": "cs131",
   "language": "python",
   "name": "python3"
  },
  "language_info": {
   "codemirror_mode": {
    "name": "ipython",
    "version": 3
   },
   "file_extension": ".py",
   "mimetype": "text/x-python",
   "name": "python",
   "nbconvert_exporter": "python",
   "pygments_lexer": "ipython3",
   "version": "3.9.15"
  }
 },
 "nbformat": 4,
 "nbformat_minor": 2
}
