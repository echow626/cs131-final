{
 "cells": [
  {
   "cell_type": "code",
   "execution_count": 57,
   "metadata": {},
   "outputs": [],
   "source": [
    "import itertools\n",
    "import numpy as np\n",
    "import json\n",
    "from collections import defaultdict\n",
    "from hog import *\n",
    "import tensorflow as tf"
   ]
  },
  {
   "cell_type": "code",
   "execution_count": 11,
   "metadata": {},
   "outputs": [],
   "source": [
    "training_data_file = 'mpii_data/train.json'\n",
    "\n",
    "with open(training_data_file, 'r') as file:\n",
    "    training_data = json.load(file)\n"
   ]
  },
  {
   "cell_type": "code",
   "execution_count": 13,
   "metadata": {},
   "outputs": [
    {
     "name": "stdout",
     "output_type": "stream",
     "text": [
      "dict_keys(['joints_vis', 'joints', 'image', 'scale', 'center'])\n"
     ]
    }
   ],
   "source": [
    "print(training_data[0].keys())"
   ]
  },
  {
   "cell_type": "code",
   "execution_count": 19,
   "metadata": {},
   "outputs": [],
   "source": [
    "# Map images to data\n",
    "image_to_data = defaultdict(list)\n",
    "for data in training_data:\n",
    "    image_to_data[data[\"image\"]].append(data)"
   ]
  },
  {
   "cell_type": "code",
   "execution_count": 26,
   "metadata": {},
   "outputs": [],
   "source": [
    "# Filter for single person images\n",
    "single_person_images = {key: data[0] for key, data in image_to_data.items() if len(data) == 1}"
   ]
  },
  {
   "cell_type": "code",
   "execution_count": 32,
   "metadata": {},
   "outputs": [],
   "source": [
    "def filter_for_single_person_data(data_filepath, save_to_filepath):\n",
    "    with open(data_filepath, 'r') as file:\n",
    "        loaded_data = json.load(file)\n",
    "    \n",
    "    image_to_data = defaultdict(list)\n",
    "    for data in loaded_data:\n",
    "        image_to_data[data[\"image\"]].append(data)\n",
    "\n",
    "    single_person_images = {key: data[0] for key, data in image_to_data.items() if len(data) == 1}\n",
    "\n",
    "    single_person_json = [data for data in loaded_data if data[\"image\"] in single_person_images.keys()]\n",
    "\n",
    "    with open(save_to_filepath, 'w') as write_to:\n",
    "        json.dump(single_person_json, write_to)\n",
    "    print(f\"Filtered data saved to {save_to_filepath}\")\n",
    "\n",
    "    return single_person_images"
   ]
  },
  {
   "cell_type": "code",
   "execution_count": 33,
   "metadata": {},
   "outputs": [
    {
     "name": "stdout",
     "output_type": "stream",
     "text": [
      "Filtered data saved to filtered_data/single_person_test.json\n",
      "Filtered data saved to filtered_data/single_person_train.json\n",
      "Filtered data saved to filtered_data/single_person_trainval.json\n",
      "Filtered data saved to filtered_data/single_person_valid.json\n"
     ]
    }
   ],
   "source": [
    "data_jsons = [\"test.json\", \"train.json\", \"trainval.json\", \"valid.json\"]\n",
    "filtered_data_dicts = {}\n",
    "for data_json_file in data_jsons:\n",
    "    save_to = \"filtered_data/single_person_\" + data_json_file\n",
    "    filtered_data_dicts[data_json_file] = filter_for_single_person_data(\"mpii_data/\" + data_json_file, save_to)"
   ]
  },
  {
   "cell_type": "code",
   "execution_count": 37,
   "metadata": {},
   "outputs": [],
   "source": [
    "with open(\"filtered_data/single_person_train.json\", 'r') as file:\n",
    "    loaded_data = json.load(file)\n",
    "\n",
    "image_to_data = defaultdict(list)\n",
    "for data in loaded_data:\n",
    "    image_to_data[data[\"image\"]].append(data)\n",
    "\n",
    "single_person_images = {key: data[0] for key, data in image_to_data.items() if len(data) == 1}\n",
    "\n",
    "single_person_json = [data for data in loaded_data if data[\"image\"] in single_person_images.keys()]\n",
    "\n",
    "short = single_person_json[:100]\n",
    "\n",
    "\n",
    "with open(\"filtered_data/single_person_small_train.json\", 'w') as write_to:\n",
    "    json.dump(short, write_to)\n"
   ]
  },
  {
   "cell_type": "code",
   "execution_count": 63,
   "metadata": {},
   "outputs": [],
   "source": [
    "def preprocess_data(data_file, name):\n",
    "    X = []\n",
    "    y = []\n",
    "\n",
    "    # Load training dataset\n",
    "    with open(data_file, \"r\") as read_file:\n",
    "        train_images = json.load(read_file)\n",
    "    for image_obj in train_images:\n",
    "        X.append(hog_feature(\"images/\" + image_obj[\"image\"]))\n",
    "        y.append(np.ravel(image_obj[\"joints\"]))\n",
    "    X = np.column_stack((itertools.zip_longest(*X, fillvalue=0)))\n",
    "    y = np.asarray(y)\n",
    "\n",
    "    np.save(f\"tf_data/{name}_X.npy\", X)\n",
    "    np.save(f\"tf_data/{name}_y.npy\", y)\n",
    "\n",
    "    return X, y"
   ]
  },
  {
   "cell_type": "code",
   "execution_count": 65,
   "metadata": {},
   "outputs": [],
   "source": [
    "X, y = preprocess_data(\"filtered_data/single_person_small_train.json\", \"small_train\", )"
   ]
  },
  {
   "cell_type": "code",
   "execution_count": 64,
   "metadata": {},
   "outputs": [],
   "source": [
    "X_train, y_train = preprocess_data(\"filtered_data/single_person_train.json\", \"train\")\n"
   ]
  },
  {
   "cell_type": "code",
   "execution_count": null,
   "metadata": {},
   "outputs": [],
   "source": [
    "X_test, y_test = preprocess_data(\"filtered_data/single_person_test.json\", \"test\")"
   ]
  },
  {
   "cell_type": "code",
   "execution_count": null,
   "metadata": {},
   "outputs": [],
   "source": [
    "X_val, y_val = preprocess_data(\"filtered_data/single_person_valid.json\", \"valid\")"
   ]
  }
 ],
 "metadata": {
  "kernelspec": {
   "display_name": "cs131",
   "language": "python",
   "name": "python3"
  },
  "language_info": {
   "codemirror_mode": {
    "name": "ipython",
    "version": 3
   },
   "file_extension": ".py",
   "mimetype": "text/x-python",
   "name": "python",
   "nbconvert_exporter": "python",
   "pygments_lexer": "ipython3",
   "version": "3.9.15"
  }
 },
 "nbformat": 4,
 "nbformat_minor": 2
}
