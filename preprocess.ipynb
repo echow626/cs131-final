{
 "cells": [
  {
   "cell_type": "code",
   "execution_count": 3,
   "metadata": {},
   "outputs": [],
   "source": [
    "import itertools\n",
    "import numpy as np\n",
    "import json\n",
    "from collections import defaultdict\n",
    "from hog import *\n",
    "import tensorflow as tf"
   ]
  },
  {
   "cell_type": "code",
   "execution_count": 11,
   "metadata": {},
   "outputs": [],
   "source": [
    "training_data_file = 'mpii_data/train.json'\n",
    "\n",
    "with open(training_data_file, 'r') as file:\n",
    "    training_data = json.load(file)\n"
   ]
  },
  {
   "cell_type": "code",
   "execution_count": 13,
   "metadata": {},
   "outputs": [
    {
     "name": "stdout",
     "output_type": "stream",
     "text": [
      "dict_keys(['joints_vis', 'joints', 'image', 'scale', 'center'])\n"
     ]
    }
   ],
   "source": [
    "print(training_data[0].keys())"
   ]
  },
  {
   "cell_type": "code",
   "execution_count": 19,
   "metadata": {},
   "outputs": [],
   "source": [
    "# Map images to data\n",
    "image_to_data = defaultdict(list)\n",
    "for data in training_data:\n",
    "    image_to_data[data[\"image\"]].append(data)"
   ]
  },
  {
   "cell_type": "code",
   "execution_count": 26,
   "metadata": {},
   "outputs": [],
   "source": [
    "# Filter for single person images\n",
    "single_person_images = {key: data[0] for key, data in image_to_data.items() if len(data) == 1}"
   ]
  },
  {
   "cell_type": "code",
   "execution_count": 4,
   "metadata": {},
   "outputs": [],
   "source": [
    "def filter_for_single_person_data(data_filepath, save_to_filepath):\n",
    "    with open(data_filepath, 'r') as file:\n",
    "        loaded_data = json.load(file)\n",
    "    \n",
    "    image_to_data = defaultdict(list)\n",
    "    for data in loaded_data:\n",
    "        image_to_data[data[\"image\"]].append(data)\n",
    "\n",
    "    single_person_images = {key: data[0] for key, data in image_to_data.items() if len(data) == 1}\n",
    "\n",
    "    single_person_json = [data for data in loaded_data if data[\"image\"] in single_person_images.keys()]\n",
    "    \n",
    "\n",
    "    with open(save_to_filepath, 'w') as write_to:\n",
    "        json.dump(single_person_json, write_to)\n",
    "    print(f\"Filtered data saved to {save_to_filepath}\")\n",
    "\n",
    "    return single_person_images"
   ]
  },
  {
   "cell_type": "code",
   "execution_count": 5,
   "metadata": {},
   "outputs": [
    {
     "name": "stdout",
     "output_type": "stream",
     "text": [
      "4569\n",
      "Filtered data saved to filtered_data/single_person_test.json\n",
      "10298\n",
      "Filtered data saved to filtered_data/single_person_train.json\n",
      "11522\n",
      "Filtered data saved to filtered_data/single_person_trainval.json\n",
      "2514\n",
      "Filtered data saved to filtered_data/single_person_valid.json\n"
     ]
    }
   ],
   "source": [
    "data_jsons = [\"test.json\", \"train.json\", \"trainval.json\", \"valid.json\"]\n",
    "filtered_data_dicts = {}\n",
    "for data_json_file in data_jsons:\n",
    "    save_to = \"filtered_data/single_person_\" + data_json_file\n",
    "    filtered_data_dicts[data_json_file] = filter_for_single_person_data(\"mpii_data/\" + data_json_file, save_to)"
   ]
  },
  {
   "cell_type": "code",
   "execution_count": 5,
   "metadata": {},
   "outputs": [],
   "source": [
    "with open(\"filtered_data/single_person_train.json\", 'r') as file:\n",
    "    loaded_data = json.load(file)\n",
    "\n",
    "image_to_data = defaultdict(list)\n",
    "for data in loaded_data:\n",
    "    image_to_data[data[\"image\"]].append(data)\n",
    "\n",
    "single_person_images = {key: data[0] for key, data in image_to_data.items() if len(data) == 1}\n",
    "\n",
    "single_person_json = [data for data in loaded_data if data[\"image\"] in single_person_images.keys()]\n",
    "\n",
    "\n",
    "num_images = len(single_person_json)\n",
    "num_train = np.floor(num_images * 0.8).astype(int)\n",
    "num_test_val = np.floor(num_images * 0.1).astype(int)\n",
    "train = single_person_json[:num_train]\n",
    "val = single_person_json[num_train:num_train + num_test_val]\n",
    "test = single_person_json[num_train + num_test_val:]\n",
    "\n",
    "with open(\"filtered_data/train.json\", 'w') as write_to:\n",
    "    json.dump(train, write_to)\n",
    "\n",
    "with open(\"filtered_data/validation.json\", 'w') as write_to:\n",
    "    json.dump(val, write_to)\n",
    "\n",
    "with open(\"filtered_data/test.json\", 'w') as write_to:\n",
    "    json.dump(test, write_to)\n"
   ]
  },
  {
   "cell_type": "code",
   "execution_count": 10,
   "metadata": {},
   "outputs": [
    {
     "name": "stdout",
     "output_type": "stream",
     "text": [
      "8238 1029 1031\n"
     ]
    }
   ],
   "source": [
    "print(len(train), len(val), len(test))"
   ]
  },
  {
   "cell_type": "code",
   "execution_count": 7,
   "metadata": {},
   "outputs": [],
   "source": [
    "def preprocess_data(data_file, name):\n",
    "    X = []\n",
    "    y = []\n",
    "\n",
    "    # Load training dataset\n",
    "    with open(data_file, \"r\") as read_file:\n",
    "        train_images = json.load(read_file)\n",
    "    for image_obj in train_images[:10]:\n",
    "        X.append(hog_feature(\"images/\" + image_obj[\"image\"]))\n",
    "        print(X[-1].shape)\n",
    "        # y.append(np.ravel(image_obj[\"joints\"]))\n",
    "    # X = np.column_stack((itertools.zip_longest(*X, fillvalue=0)))\n",
    "    # y = np.asarray(y)\n",
    "\n",
    "    np.save(f\"tf_data/{name}_X.npy\", X)\n",
    "    np.save(f\"tf_data/{name}_y.npy\", y)\n",
    "\n",
    "    return X, y"
   ]
  },
  {
   "cell_type": "code",
   "execution_count": 4,
   "metadata": {},
   "outputs": [
    {
     "name": "stdout",
     "output_type": "stream",
     "text": [
      "(74844,)\n",
      "(74844,)\n",
      "(65205,)\n",
      "(65205,)\n",
      "(65205,)\n",
      "(65205,)\n",
      "(65205,)\n",
      "(65205,)\n",
      "(74844,)\n",
      "(74844,)\n"
     ]
    }
   ],
   "source": [
    "X, y = preprocess_data(\"filtered_data/single_person_small_train.json\", \"small_train\")"
   ]
  },
  {
   "cell_type": "code",
   "execution_count": 66,
   "metadata": {},
   "outputs": [
    {
     "ename": "",
     "evalue": "",
     "output_type": "error",
     "traceback": [
      "\u001b[1;31mThe Kernel crashed while executing code in the current cell or a previous cell. \n",
      "\u001b[1;31mPlease review the code in the cell(s) to identify a possible cause of the failure. \n",
      "\u001b[1;31mClick <a href='https://aka.ms/vscodeJupyterKernelCrash'>here</a> for more info. \n",
      "\u001b[1;31mView Jupyter <a href='command:jupyter.viewOutput'>log</a> for further details."
     ]
    }
   ],
   "source": [
    "X_train, y_train = preprocess_data(\"filtered_data/train.json\", \"train\")"
   ]
  },
  {
   "cell_type": "code",
   "execution_count": null,
   "metadata": {},
   "outputs": [],
   "source": [
    "X_test, y_test = preprocess_data(\"filtered_data/test.json\", \"test\")"
   ]
  },
  {
   "cell_type": "code",
   "execution_count": 12,
   "metadata": {},
   "outputs": [],
   "source": [
    "X_val, y_val = preprocess_data(\"filtered_data/validation.json\", \"valid\")"
   ]
  },
  {
   "cell_type": "code",
   "execution_count": 4,
   "metadata": {},
   "outputs": [
    {
     "data": {
      "text/plain": [
       "(1029, 2563974)"
      ]
     },
     "execution_count": 4,
     "metadata": {},
     "output_type": "execute_result"
    }
   ],
   "source": [
    "np.load(\"tf_data/validation_X.npy\").shape"
   ]
  }
 ],
 "metadata": {
  "kernelspec": {
   "display_name": "cs131",
   "language": "python",
   "name": "python3"
  },
  "language_info": {
   "codemirror_mode": {
    "name": "ipython",
    "version": 3
   },
   "file_extension": ".py",
   "mimetype": "text/x-python",
   "name": "python",
   "nbconvert_exporter": "python",
   "pygments_lexer": "ipython3",
   "version": "3.9.15"
  }
 },
 "nbformat": 4,
 "nbformat_minor": 2
}
