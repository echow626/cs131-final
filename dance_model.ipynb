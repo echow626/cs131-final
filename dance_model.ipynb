{
 "cells": [
  {
   "cell_type": "code",
   "execution_count": null,
   "metadata": {},
   "outputs": [],
   "source": [
    "# TensorFlow and tf.keras\n",
    "import tensorflow as tf\n",
    "\n",
    "# Helper libraries\n",
    "import numpy as np\n",
    "import matplotlib.pyplot as plt"
   ]
  },
  {
   "cell_type": "code",
   "execution_count": null,
   "metadata": {},
   "outputs": [],
   "source": [
    "# import matplotlib.pyplot as plt\n",
    "# import matplotlib.cm as cm\n",
    "# import matplotlib.animation as animation\n",
    "\n",
    "# img = []\n",
    "# frames = [] # for storing the generated images\n",
    "# fig = plt.figure()\n",
    "# for i in range(6):\n",
    "#     frames.append([plt.imshow(img[i], cmap=cm.Greys_r,animated=True)])\n",
    "\n",
    "# ani = animation.ArtistAnimation(fig, frames, interval=50, blit=True, repeat_delay=1000)\n",
    "# ani.save('movie.mp4')\n",
    "# plt.show()\n",
    "\n",
    "\n",
    "# importing matplot lib\n",
    "import matplotlib.pyplot as plt\n",
    "import numpy as np\n",
    " \n",
    "# importing movie py libraries\n",
    "from moviepy.editor import VideoClip\n",
    "from moviepy.video.io.bindings import mplfig_to_npimage\n",
    " \n",
    "# numpy array\n",
    "x = np.linspace(-2, 2, 200)\n",
    " \n",
    "# duration of the video\n",
    "duration = 2\n",
    " \n",
    "# matplot subplot\n",
    "fig, ax = plt.subplots()\n",
    " \n",
    "# method to get frames\n",
    "def make_frame(t):\n",
    "     \n",
    "    # clear\n",
    "    ax.clear()\n",
    "     \n",
    "    # plotting line\n",
    "    ax.plot(x, np.sinc(x**2) + np.sin(x + 2 * np.pi / duration * t), lw = 3)\n",
    "    ax.set_ylim(-1.5, 2.5)\n",
    "     \n",
    "    # returning numpy image\n",
    "    return mplfig_to_npimage(fig)\n",
    " \n",
    "# creating animation\n",
    "animation = VideoClip(make_frame, duration = duration)\n",
    " \n",
    "# displaying animation with auto play and looping\n",
    "animation.ipython_display(fps = 20, loop = True, autoplay = True)"
   ]
  },
  {
   "cell_type": "code",
   "execution_count": null,
   "metadata": {},
   "outputs": [],
   "source": [
    "def create_classification_model(input_shape):\n",
    "    model = tf.keras.Sequential([\n",
    "        tf.keras.layers.Input(shape=input_shape),\n",
    "        tf.keras.layers.Dense(64, activation='relu'),\n",
    "        tf.keras.layers.Dense(4, activation='softmax')  # Output layer with 4 units for 4 labels\n",
    "    ])\n",
    "    return model\n",
    "\n",
    "# Define the input shape\n",
    "input_shape = (32,)\n",
    "\n",
    "# Create the model\n",
    "model = create_classification_model(input_shape)\n",
    "\n",
    "# Compile the model\n",
    "model.compile(optimizer='adam',\n",
    "              loss=tf.keras.losses.SparseCategoricalCrossentropy(),\n",
    "              metrics=['accuracy'])\n",
    "\n",
    "# Print the model summary\n",
    "model.summary()\n"
   ]
  }
 ],
 "metadata": {
  "kernelspec": {
   "display_name": "dance",
   "language": "python",
   "name": "python3"
  },
  "language_info": {
   "codemirror_mode": {
    "name": "ipython",
    "version": 3
   },
   "file_extension": ".py",
   "mimetype": "text/x-python",
   "name": "python",
   "nbconvert_exporter": "python",
   "pygments_lexer": "ipython3",
   "version": "3.8.18"
  }
 },
 "nbformat": 4,
 "nbformat_minor": 2
}
